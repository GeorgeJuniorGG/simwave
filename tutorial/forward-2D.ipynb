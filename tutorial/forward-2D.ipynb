{
 "cells": [
  {
   "cell_type": "markdown",
   "metadata": {},
   "source": [
    "# Simple acoustic wave 2D\n",
    "\n",
    "In this tutorial, we demonstrate how to simulate acoustic wave propagation in 2D domain using pywave.\n",
    "\n",
    "First, we define the number of points and the grid spacing (in meters) in each dimension."
   ]
  },
  {
   "cell_type": "code",
   "execution_count": 1,
   "metadata": {},
   "outputs": [],
   "source": [
    "from pywave import *\n",
    "import numpy as np\n",
    "\n",
    "# number of grid points (z,x)\n",
    "shape = (512, 512)\n",
    "\n",
    "# spacing (in meters)\n",
    "spacing = (15.0, 15.0)\n",
    "\n",
    "# propagation time (miliseconds)\n",
    "time = 2000"
   ]
  },
  {
   "cell_type": "markdown",
   "metadata": {},
   "source": [
    "Next, the velocity model is created. In this example we create a velocity model with two velocity values and stores the data in a numpy array. "
   ]
  },
  {
   "cell_type": "code",
   "execution_count": 2,
   "metadata": {},
   "outputs": [],
   "source": [
    "# Velocity model\n",
    "vel = np.zeros(shape, dtype=np.float32)\n",
    "vel[:] = 1500.0\n",
    "vel[256:] = 2500.0\n",
    "velModel = Model(ndarray=vel)"
   ]
  },
  {
   "cell_type": "markdown",
   "metadata": {},
   "source": [
    "A second method can read a model from an existing file using the SEGY format in 2D (3D to be implemented):\n",
    "\n",
    "`velModel = Model(file=\"path/to/segy_file\")`\n",
    "\n",
    "The velocity model can be ploted as follows."
   ]
  },
  {
   "cell_type": "code",
   "execution_count": 3,
   "metadata": {},
   "outputs": [
    {
     "data": {
      "image/png": "[encoded data removed]",
      "text/plain": [
       "<Figure size 432x288 with 2 Axes>"
      ]
     },
     "metadata": {
      "needs_background": "light"
     },
     "output_type": "display_data"
    },
    {
     "name": "stdout",
     "output_type": "stream",
     "text": [
      "Velocity mode saved in plots/velocity_model.png\n"
     ]
    }
   ],
   "source": [
    "plot_velocity_model(velModel)"
   ]
  },
  {
   "cell_type": "markdown",
   "metadata": {},
   "source": [
    "Now some compiler options are set."
   ]
  },
  {
   "cell_type": "code",
   "execution_count": 4,
   "metadata": {},
   "outputs": [],
   "source": [
    "# Compiler\n",
    "compiler = Compiler(program_version='sequential')"
   ]
  },
  {
   "cell_type": "markdown",
   "metadata": {},
   "source": [
    "The domain can be extended with an absorbing layer and the halo of the space order. At this point some parameters can be defined:\n",
    "\n",
    "    nbl : int, optional\n",
    "        Number of boundary layers (grid points) along sides of the grid (except top).\n",
    "        Default is 0 points.\n",
    "    space_order : int, optional\n",
    "        Finite differences spatial order.\n",
    "        Default is order 2.\n",
    "    degree : int, optional\n",
    "        Degree of the polynomial in the extension function.\n",
    "        Default is 1 (linear)\n",
    "    alpha : float, optional\n",
    "        Constant parameter of the extension function.\n",
    "        Default is 0.0001\n",
    "\n",
    "Implementation notes:\n",
    "\n",
    "Currently, pywave implements only 2nd spatial order.\n",
    "\n",
    "Absorbing layer is implemented with damping. The damping factor ($\\eta$) is zero inside the original domain, while in the extended region it grows linearly:\n",
    "\n",
    "$\\eta(z,x) = \\alpha d(z,x)^e$, \n",
    "\n",
    "where:\n",
    "\n",
    "**d** is the perpendicular distance from the point $(z, x)$ to the boundary between original and extended domain;\n",
    "\n",
    "**e** is a polynomial degree (we used cubic in this example).\n",
    "\n",
    "More details in: **Y. Gao et al. Comparison of artificial absorbing boundaries for acoustic wave equation modelling, Exploration Geophysics (2017) 76–93.** "
   ]
  },
  {
   "cell_type": "code",
   "execution_count": 5,
   "metadata": {},
   "outputs": [],
   "source": [
    "# domain extension (damping + spatial order halo)\n",
    "extension = DomainExtension(nbl=50, degree=3, alpha=0.0001)"
   ]
  },
  {
   "cell_type": "markdown",
   "metadata": {},
   "source": [
    "Next, define the source wavelet. Parameters include frequency and amplitude. So far, pywave implements only the Ricker source. "
   ]
  },
  {
   "cell_type": "code",
   "execution_count": 6,
   "metadata": {},
   "outputs": [],
   "source": [
    "# Wavelet\n",
    "wavelet = Wavelet(frequency=5.0)"
   ]
  },
  {
   "cell_type": "markdown",
   "metadata": {},
   "source": [
    "The class `Source` encapsulates a set of sources that behave according to the `wavelet`. An arbitraty number of sources can be added by the `_.add(position=(z,x))` method wich receives the position in grid points. \n",
    "Interpolation is made as described in **Hicks, Graham J. \"Arbitrary source and receiver positioning in finite-difference schemes using Kaiser windowed sinc functions.\" Geophysics 67.1 (2002): 156-165.**\n",
    "The parameter `kws_half_width` defines the radius of the Kaiser window for the source interpolation. "
   ]
  },
  {
   "cell_type": "code",
   "execution_count": 7,
   "metadata": {},
   "outputs": [],
   "source": [
    "# Source\n",
    "source = Source(kws_half_width=1, wavelet=wavelet)\n",
    "source.add(position=(30,255.5))"
   ]
  },
  {
   "cell_type": "markdown",
   "metadata": {},
   "source": [
    "Receivers are defined in a similar way:"
   ]
  },
  {
   "cell_type": "code",
   "execution_count": 8,
   "metadata": {},
   "outputs": [],
   "source": [
    "# receivers\n",
    "receivers = Receiver(kws_half_width=1)\n",
    "\n",
    "for i in range(512):\n",
    "    receivers.add(position=(15.5,i))"
   ]
  },
  {
   "cell_type": "markdown",
   "metadata": {},
   "source": [
    "Next, set some configuration parameters for the solver, including:\n",
    "\n",
    "    velocity_model : object\n",
    "        Velocity model object.\n",
    "    sources : object\n",
    "        Object that represents the set of sources.\n",
    "    receivers : object\n",
    "        Object that represents the set of receivers.\n",
    "    domain_extension : object\n",
    "        Object that holds the domain extension configuration.\n",
    "    spacing : tuple(int,...)\n",
    "        Spacing along each axis.\n",
    "    progatation_time : int\n",
    "        Propagation time in miliseconds.\n",
    "    space_order : int, optional\n",
    "        Define spatial order. Defaut is 2.\n",
    "    jumps : int, optional\n",
    "        Skipping factor when saving the wavefields. Default is 1.\n",
    "    compiler : object, optional\n",
    "        Object that represents the compiler.\n",
    "    density: object, optional\n",
    "        Density model object."
   ]
  },
  {
   "cell_type": "code",
   "execution_count": 9,
   "metadata": {},
   "outputs": [
    {
     "name": "stdout",
     "output_type": "stream",
     "text": [
      "Compilation command: gcc /Users/hermes/Downloads/git/pywave/pywave/kernel/c_code/fixed_spatial_order/forward_sequential.c -O3 -fPIC -Wall -std=c99 -shared -o /Users/hermes/Downloads/git/pywave/tutorial/tmp/lib_c_wave_sequential.so\n",
      "Model: Acoustic\n",
      "Dimension: 2D\n",
      "Shape: (564, 614)\n",
      "Spacing: (15.0, 15.0)\n",
      "Density: constant\n",
      "Space Order: 2\n",
      "Propagation time: 2000 miliseconds \n",
      "DT: 0.004243 seconds\n",
      "Frequency: 5.0 Hz\n",
      "Timesteps: 471\n",
      "Computing forward...\n"
     ]
    }
   ],
   "source": [
    "setup = Setup(\n",
    "    velocity_model=velModel,\n",
    "    sources=source,\n",
    "    receivers=receivers,\n",
    "    domain_extension=extension,\n",
    "    spacing=spacing,\n",
    "    propagation_time=time,\n",
    "    jumps=1,\n",
    "    compiler=compiler\n",
    ")\n",
    "\n",
    "solver = AcousticSolver(setup=setup)\n",
    "\n",
    "wavefield, rec, exec_time = solver.forward()"
   ]
  },
  {
   "cell_type": "code",
   "execution_count": 10,
   "metadata": {},
   "outputs": [
    {
     "name": "stdout",
     "output_type": "stream",
     "text": [
      "Forward execution time: 1.063294 seconds\n"
     ]
    },
    {
     "data": {
      "image/png": "[encoded data removed]",
      "text/plain": [
       "<Figure size 432x288 with 2 Axes>"
      ]
     },
     "metadata": {
      "needs_background": "light"
     },
     "output_type": "display_data"
    },
    {
     "name": "stdout",
     "output_type": "stream",
     "text": [
      "Final wavefield saved in plots/wavefield.png\n"
     ]
    },
    {
     "data": {
      "image/png": "[encoded data removed]",
      "text/plain": [
       "<Figure size 432x288 with 2 Axes>"
      ]
     },
     "metadata": {
      "needs_background": "light"
     },
     "output_type": "display_data"
    },
    {
     "name": "stdout",
     "output_type": "stream",
     "text": [
      "Shotrecord saved in plots/shotrecord.png\n"
     ]
    }
   ],
   "source": [
    "print(\"Forward execution time: %f seconds\" % exec_time)\n",
    "\n",
    "plot_wavefield(wavefield)\n",
    "plot_shotrecord(rec)"
   ]
  },
  {
   "cell_type": "code",
   "execution_count": null,
   "metadata": {},
   "outputs": [],
   "source": []
  }
 ],
 "metadata": {
  "kernelspec": {
   "display_name": "Python 3",
   "language": "python",
   "name": "python3"
  },
  "language_info": {
   "codemirror_mode": {
    "name": "ipython",
    "version": 3
   },
   "file_extension": ".py",
   "mimetype": "text/x-python",
   "name": "python",
   "nbconvert_exporter": "python",
   "pygments_lexer": "ipython3",
   "version": "3.8.4"
  }
 },
 "nbformat": 4,
 "nbformat_minor": 4
}
